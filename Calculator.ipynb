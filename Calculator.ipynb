{
 "cells": [
  {
   "cell_type": "code",
   "execution_count": 5,
   "id": "b365be59-ec90-4b2b-8cbe-1cd61eb8dd6e",
   "metadata": {},
   "outputs": [
    {
     "name": "stdout",
     "output_type": "stream",
     "text": [
      "Welcome to the calculator! Here are 2 calculators, one takes separate arguments and the other takes an expression like '2+2'. Try to learn more. \n",
      " \n",
      "\n"
     ]
    },
    {
     "name": "stdin",
     "output_type": "stream",
     "text": [
      "Which calculator do you want to use? (calculator or calculator2 (1 / 2). Press 'q' to quit.) 1\n",
      "Enter first number:  45\n",
      "Enter second number:  65\n",
      "Enter operation (+, -, *, /):  +\n"
     ]
    },
    {
     "name": "stdout",
     "output_type": "stream",
     "text": [
      "110.0\n"
     ]
    },
    {
     "name": "stdin",
     "output_type": "stream",
     "text": [
      "Which calculator do you want to use? (calculator or calculator2 (1 / 2). Press 'q' to quit.) 1\n",
      "Enter first number:  89\n",
      "Enter second number:  65\n",
      "Enter operation (+, -, *, /):  *\n"
     ]
    },
    {
     "name": "stdout",
     "output_type": "stream",
     "text": [
      "5785.0\n"
     ]
    },
    {
     "name": "stdin",
     "output_type": "stream",
     "text": [
      "Which calculator do you want to use? (calculator or calculator2 (1 / 2). Press 'q' to quit.) q\n",
      "Rate this app from 1 to 10:  6\n",
      "Enter your review:  good\n",
      "Enter your name:  jayapaul\n"
     ]
    },
    {
     "name": "stdout",
     "output_type": "stream",
     "text": [
      "Thanks for your review!\n"
     ]
    }
   ],
   "source": [
    "# This is code of task given by CodSoft as  Python Developer\n",
    "\n",
    "# Simple Arithmatic Culculator\n",
    "\n",
    "def calculator():\n",
    "  num1 = float(input(\"Enter first number: \"))\n",
    "\n",
    "  num2 = float(input(\"Enter second number: \"))\n",
    "\n",
    "  operation = input(\"Enter operation (+, -, *, /): \")\n",
    "\n",
    "  if operation == '+':\n",
    "    print(num1 + num2)\n",
    "  elif operation == '-':\n",
    "    print(num1 - num2)\n",
    "  elif operation == '*':\n",
    "    print(num1 * num2)\n",
    "  elif operation == '/':\n",
    "    if num2 != 0:\n",
    "      print(num1 / num2)\n",
    "    else:\n",
    "      print(\"Cannot divide by zero\")\n",
    "  else:\n",
    "    print(\"Invalid operation\")\n",
    "\n",
    "\n",
    "def calculator2():\n",
    "  expression = input(\"Enter an expression: \")\n",
    "\n",
    "  result = eval(expression)\n",
    "  print(result)\n",
    "\n",
    "\n",
    "intro_message = \"Welcome to the calculator! Here are 2 calculators, one takes separate arguments and the other takes an expression like '2+2'. Try to learn more. \\n \\n\"\n",
    "\n",
    "print(intro_message)\n",
    "\n",
    "while True:\n",
    "\n",
    "  ask = input(\n",
    "      \"Which calculator do you want to use? (calculator or calculator2 (1 / 2). Press 'q' to quit.)\"\n",
    "  )\n",
    "  if ask == '1':\n",
    "    calculator()\n",
    "  elif ask == '2':\n",
    "    calculator2()\n",
    "  elif ask == 'q':\n",
    "    break\n",
    "  else:\n",
    "    print(\"Please enter a valid option.\")\n",
    "\n",
    "# This will Take review from user and will save in user_reviews.txt.\n",
    "rating = int(input(\"Rate this app from 1 to 10: \"))\n",
    "review = input(\"Enter your review: \")\n",
    "name = input(\"Enter your name: \")\n",
    "\n",
    "\n",
    "with open('user_reviews.txt', 'a') as file:\n",
    "  file.write(f\"Name: {name}, Rating: {rating}, Review: {review}\\n\")\n",
    "print('Thanks for your review!')"
   ]
  },
  {
   "cell_type": "code",
   "execution_count": null,
   "id": "0c27a867-0468-44b5-9721-7e615aa74a90",
   "metadata": {},
   "outputs": [],
   "source": []
  }
 ],
 "metadata": {
  "kernelspec": {
   "display_name": "Python 3 (ipykernel)",
   "language": "python",
   "name": "python3"
  },
  "language_info": {
   "codemirror_mode": {
    "name": "ipython",
    "version": 3
   },
   "file_extension": ".py",
   "mimetype": "text/x-python",
   "name": "python",
   "nbconvert_exporter": "python",
   "pygments_lexer": "ipython3",
   "version": "3.12.4"
  }
 },
 "nbformat": 4,
 "nbformat_minor": 5
}
